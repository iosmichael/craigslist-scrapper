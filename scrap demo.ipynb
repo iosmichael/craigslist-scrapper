{
 "cells": [
  {
   "cell_type": "code",
   "execution_count": 4,
   "metadata": {
    "collapsed": true
   },
   "outputs": [],
   "source": [
    "url = \"https://sandiego.craigslist.org/csd/cto/d/lets-trade-bmw-z3m/6703251969.html\""
   ]
  },
  {
   "cell_type": "code",
   "execution_count": 5,
   "metadata": {
    "collapsed": true
   },
   "outputs": [],
   "source": [
    "import json\n",
    "import urllib\n",
    "from bs4 import BeautifulSoup\n",
    "page = urllib.request.urlopen(url)\n",
    "soup = BeautifulSoup(page, 'html.parser')\n",
    "data = {}\n",
    "def is_int(s):\n",
    "    try: \n",
    "        int(s)\n",
    "        return True\n",
    "    except ValueError:\n",
    "        return False"
   ]
  },
  {
   "cell_type": "code",
   "execution_count": 6,
   "metadata": {},
   "outputs": [
    {
     "name": "stdout",
     "output_type": "stream",
     "text": [
      "year:  None\n",
      "model:  Trade ! BMW Z3M\n",
      "price:  $11500\n"
     ]
    }
   ],
   "source": [
    "#post title\n",
    "title = soup.select_one('h2.postingtitle > span.postingtitletext > span#titletextonly')\n",
    "title_tokens = title.text.split(sep=\" \")\n",
    "year = title_tokens[0] if is_int(title_tokens[0]) else None\n",
    "data['year'] = year\n",
    "print(\"year: \", year)\n",
    "model = \" \".join(title_tokens[1:])\n",
    "data['model'] = model\n",
    "print(\"model: \", model)\n",
    "#post price\n",
    "price = soup.select_one('h2.postingtitle > span.postingtitletext > span.price')\n",
    "data['price'] = price.text\n",
    "print(\"price: \", price.text)\n",
    "tags = soup.select('p.attrgroup span')"
   ]
  },
  {
   "cell_type": "code",
   "execution_count": 11,
   "metadata": {},
   "outputs": [],
   "source": [
    "tokens = tags[0].text.split(sep=\":\")\n",
    "if len(tokens) == 0:\n",
    "    t = tokens[0].split(sep=\" \")\n",
    "    data['model'] = t[1:]        \n",
    "    data['year'] = t[0]\n",
    "for tag in tags:\n",
    "    tokens = tag.text.split(sep=':')\n",
    "    if len(tokens) > 1:\n",
    "        data[tokens[0].strip()] = tokens[1].strip()"
   ]
  },
  {
   "cell_type": "code",
   "execution_count": 12,
   "metadata": {
    "collapsed": true
   },
   "outputs": [],
   "source": [
    "images = soup.select_one('div.gallery div.swipe-wrap img')\n",
    "data['image'] = images['src']"
   ]
  },
  {
   "cell_type": "code",
   "execution_count": 13,
   "metadata": {},
   "outputs": [
    {
     "name": "stdout",
     "output_type": "stream",
     "text": [
      "[('price', '$11500'), ('cylinders', '6 cylinders'), ('year', None), ('transmission', 'manual'), ('condition', 'excellent'), ('title status', 'clean'), ('model', 'Trade ! BMW Z3M'), ('odometer', '96100'), ('image', 'https://images.craigslist.org/00A0A_iQ3i02dyjhd_600x450.jpg'), ('fuel', 'gas')]\n"
     ]
    }
   ],
   "source": [
    "print([(key, data[key]) for key in data.keys()])"
   ]
  },
  {
   "cell_type": "code",
   "execution_count": 14,
   "metadata": {},
   "outputs": [
    {
     "data": {
      "text/plain": [
       "'{\"price\": \"$11500\", \"cylinders\": \"6 cylinders\", \"year\": null, \"transmission\": \"manual\", \"condition\": \"excellent\", \"title status\": \"clean\", \"model\": \"Trade ! BMW Z3M\", \"odometer\": \"96100\", \"image\": \"https://images.craigslist.org/00A0A_iQ3i02dyjhd_600x450.jpg\", \"fuel\": \"gas\"}'"
      ]
     },
     "execution_count": 14,
     "metadata": {},
     "output_type": "execute_result"
    }
   ],
   "source": [
    "json.dumps(data)"
   ]
  }
 ],
 "metadata": {
  "kernelspec": {
   "display_name": "Python 3",
   "language": "python",
   "name": "python3"
  },
  "language_info": {
   "codemirror_mode": {
    "name": "ipython",
    "version": 3
   },
   "file_extension": ".py",
   "mimetype": "text/x-python",
   "name": "python",
   "nbconvert_exporter": "python",
   "pygments_lexer": "ipython3",
   "version": "3.5.5"
  }
 },
 "nbformat": 4,
 "nbformat_minor": 2
}
